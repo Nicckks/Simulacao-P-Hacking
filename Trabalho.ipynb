{
 "cells": [
  {
   "cell_type": "code",
   "execution_count": 2,
   "metadata": {},
   "outputs": [],
   "source": [
    "import pandas as pd\n",
    "import numpy as np\n",
    "import matplotlib.pyplot as plt\n",
    "import seaborn as sns\n",
    "from scipy import stats\n",
    "import statsmodels.api as sm\n",
    "from statsmodels.formula.api import ols"
   ]
  },
  {
   "cell_type": "code",
   "execution_count": 3,
   "metadata": {},
   "outputs": [
    {
     "data": {
      "text/html": [
       "<div>\n",
       "<style scoped>\n",
       "    .dataframe tbody tr th:only-of-type {\n",
       "        vertical-align: middle;\n",
       "    }\n",
       "\n",
       "    .dataframe tbody tr th {\n",
       "        vertical-align: top;\n",
       "    }\n",
       "\n",
       "    .dataframe thead th {\n",
       "        text-align: right;\n",
       "    }\n",
       "</style>\n",
       "<table border=\"1\" class=\"dataframe\">\n",
       "  <thead>\n",
       "    <tr style=\"text-align: right;\">\n",
       "      <th></th>\n",
       "      <th>Recency</th>\n",
       "      <th>Frequency</th>\n",
       "      <th>Monetary</th>\n",
       "      <th>Time</th>\n",
       "      <th>Donated_Blood</th>\n",
       "    </tr>\n",
       "  </thead>\n",
       "  <tbody>\n",
       "    <tr>\n",
       "      <th>0</th>\n",
       "      <td>2</td>\n",
       "      <td>50</td>\n",
       "      <td>12500</td>\n",
       "      <td>98</td>\n",
       "      <td>1</td>\n",
       "    </tr>\n",
       "    <tr>\n",
       "      <th>1</th>\n",
       "      <td>0</td>\n",
       "      <td>13</td>\n",
       "      <td>3250</td>\n",
       "      <td>28</td>\n",
       "      <td>1</td>\n",
       "    </tr>\n",
       "    <tr>\n",
       "      <th>2</th>\n",
       "      <td>1</td>\n",
       "      <td>16</td>\n",
       "      <td>4000</td>\n",
       "      <td>35</td>\n",
       "      <td>1</td>\n",
       "    </tr>\n",
       "    <tr>\n",
       "      <th>3</th>\n",
       "      <td>2</td>\n",
       "      <td>20</td>\n",
       "      <td>5000</td>\n",
       "      <td>45</td>\n",
       "      <td>1</td>\n",
       "    </tr>\n",
       "    <tr>\n",
       "      <th>4</th>\n",
       "      <td>1</td>\n",
       "      <td>24</td>\n",
       "      <td>6000</td>\n",
       "      <td>77</td>\n",
       "      <td>0</td>\n",
       "    </tr>\n",
       "    <tr>\n",
       "      <th>...</th>\n",
       "      <td>...</td>\n",
       "      <td>...</td>\n",
       "      <td>...</td>\n",
       "      <td>...</td>\n",
       "      <td>...</td>\n",
       "    </tr>\n",
       "    <tr>\n",
       "      <th>743</th>\n",
       "      <td>23</td>\n",
       "      <td>2</td>\n",
       "      <td>500</td>\n",
       "      <td>38</td>\n",
       "      <td>0</td>\n",
       "    </tr>\n",
       "    <tr>\n",
       "      <th>744</th>\n",
       "      <td>21</td>\n",
       "      <td>2</td>\n",
       "      <td>500</td>\n",
       "      <td>52</td>\n",
       "      <td>0</td>\n",
       "    </tr>\n",
       "    <tr>\n",
       "      <th>745</th>\n",
       "      <td>23</td>\n",
       "      <td>3</td>\n",
       "      <td>750</td>\n",
       "      <td>62</td>\n",
       "      <td>0</td>\n",
       "    </tr>\n",
       "    <tr>\n",
       "      <th>746</th>\n",
       "      <td>39</td>\n",
       "      <td>1</td>\n",
       "      <td>250</td>\n",
       "      <td>39</td>\n",
       "      <td>0</td>\n",
       "    </tr>\n",
       "    <tr>\n",
       "      <th>747</th>\n",
       "      <td>72</td>\n",
       "      <td>1</td>\n",
       "      <td>250</td>\n",
       "      <td>72</td>\n",
       "      <td>0</td>\n",
       "    </tr>\n",
       "  </tbody>\n",
       "</table>\n",
       "<p>748 rows × 5 columns</p>\n",
       "</div>"
      ],
      "text/plain": [
       "     Recency  Frequency  Monetary  Time  Donated_Blood\n",
       "0          2         50     12500    98              1\n",
       "1          0         13      3250    28              1\n",
       "2          1         16      4000    35              1\n",
       "3          2         20      5000    45              1\n",
       "4          1         24      6000    77              0\n",
       "..       ...        ...       ...   ...            ...\n",
       "743       23          2       500    38              0\n",
       "744       21          2       500    52              0\n",
       "745       23          3       750    62              0\n",
       "746       39          1       250    39              0\n",
       "747       72          1       250    72              0\n",
       "\n",
       "[748 rows x 5 columns]"
      ]
     },
     "execution_count": 3,
     "metadata": {},
     "output_type": "execute_result"
    }
   ],
   "source": [
    "# Passo 1: Ler o Dataset\n",
    "dataset_url = \"https://archive.ics.uci.edu/static/public/176/data.csv\"\n",
    "df = pd.read_csv(dataset_url)\n",
    "df"
   ]
  },
  {
   "cell_type": "code",
   "execution_count": 4,
   "metadata": {},
   "outputs": [
    {
     "name": "stdout",
     "output_type": "stream",
     "text": [
      "\n",
      "Primeiras linhas do dataset:\n"
     ]
    },
    {
     "data": {
      "text/html": [
       "<div>\n",
       "<style scoped>\n",
       "    .dataframe tbody tr th:only-of-type {\n",
       "        vertical-align: middle;\n",
       "    }\n",
       "\n",
       "    .dataframe tbody tr th {\n",
       "        vertical-align: top;\n",
       "    }\n",
       "\n",
       "    .dataframe thead th {\n",
       "        text-align: right;\n",
       "    }\n",
       "</style>\n",
       "<table border=\"1\" class=\"dataframe\">\n",
       "  <thead>\n",
       "    <tr style=\"text-align: right;\">\n",
       "      <th></th>\n",
       "      <th>Recency</th>\n",
       "      <th>Frequency</th>\n",
       "      <th>Monetary</th>\n",
       "      <th>Time</th>\n",
       "      <th>Donated_Blood</th>\n",
       "    </tr>\n",
       "  </thead>\n",
       "  <tbody>\n",
       "    <tr>\n",
       "      <th>0</th>\n",
       "      <td>2</td>\n",
       "      <td>50</td>\n",
       "      <td>12500</td>\n",
       "      <td>98</td>\n",
       "      <td>1</td>\n",
       "    </tr>\n",
       "    <tr>\n",
       "      <th>1</th>\n",
       "      <td>0</td>\n",
       "      <td>13</td>\n",
       "      <td>3250</td>\n",
       "      <td>28</td>\n",
       "      <td>1</td>\n",
       "    </tr>\n",
       "    <tr>\n",
       "      <th>2</th>\n",
       "      <td>1</td>\n",
       "      <td>16</td>\n",
       "      <td>4000</td>\n",
       "      <td>35</td>\n",
       "      <td>1</td>\n",
       "    </tr>\n",
       "    <tr>\n",
       "      <th>3</th>\n",
       "      <td>2</td>\n",
       "      <td>20</td>\n",
       "      <td>5000</td>\n",
       "      <td>45</td>\n",
       "      <td>1</td>\n",
       "    </tr>\n",
       "    <tr>\n",
       "      <th>4</th>\n",
       "      <td>1</td>\n",
       "      <td>24</td>\n",
       "      <td>6000</td>\n",
       "      <td>77</td>\n",
       "      <td>0</td>\n",
       "    </tr>\n",
       "  </tbody>\n",
       "</table>\n",
       "</div>"
      ],
      "text/plain": [
       "   Recency  Frequency  Monetary  Time  Donated_Blood\n",
       "0        2         50     12500    98              1\n",
       "1        0         13      3250    28              1\n",
       "2        1         16      4000    35              1\n",
       "3        2         20      5000    45              1\n",
       "4        1         24      6000    77              0"
      ]
     },
     "execution_count": 4,
     "metadata": {},
     "output_type": "execute_result"
    }
   ],
   "source": [
    "# Exibir as primeiras linhas para verificar o carregamento\n",
    "print(\"\\nPrimeiras linhas do dataset:\")\n",
    "df.head()\n"
   ]
  },
  {
   "cell_type": "code",
   "execution_count": 5,
   "metadata": {},
   "outputs": [
    {
     "name": "stdout",
     "output_type": "stream",
     "text": [
      "\n",
      "Resumo estatístico do dataset:\n"
     ]
    },
    {
     "data": {
      "text/html": [
       "<div>\n",
       "<style scoped>\n",
       "    .dataframe tbody tr th:only-of-type {\n",
       "        vertical-align: middle;\n",
       "    }\n",
       "\n",
       "    .dataframe tbody tr th {\n",
       "        vertical-align: top;\n",
       "    }\n",
       "\n",
       "    .dataframe thead th {\n",
       "        text-align: right;\n",
       "    }\n",
       "</style>\n",
       "<table border=\"1\" class=\"dataframe\">\n",
       "  <thead>\n",
       "    <tr style=\"text-align: right;\">\n",
       "      <th></th>\n",
       "      <th>Recency</th>\n",
       "      <th>Frequency</th>\n",
       "      <th>Monetary</th>\n",
       "      <th>Time</th>\n",
       "      <th>Donated_Blood</th>\n",
       "    </tr>\n",
       "  </thead>\n",
       "  <tbody>\n",
       "    <tr>\n",
       "      <th>count</th>\n",
       "      <td>748.000000</td>\n",
       "      <td>748.000000</td>\n",
       "      <td>748.000000</td>\n",
       "      <td>748.000000</td>\n",
       "      <td>748.000000</td>\n",
       "    </tr>\n",
       "    <tr>\n",
       "      <th>mean</th>\n",
       "      <td>9.506684</td>\n",
       "      <td>5.514706</td>\n",
       "      <td>1378.676471</td>\n",
       "      <td>34.282086</td>\n",
       "      <td>0.237968</td>\n",
       "    </tr>\n",
       "    <tr>\n",
       "      <th>std</th>\n",
       "      <td>8.095396</td>\n",
       "      <td>5.839307</td>\n",
       "      <td>1459.826781</td>\n",
       "      <td>24.376714</td>\n",
       "      <td>0.426124</td>\n",
       "    </tr>\n",
       "    <tr>\n",
       "      <th>min</th>\n",
       "      <td>0.000000</td>\n",
       "      <td>1.000000</td>\n",
       "      <td>250.000000</td>\n",
       "      <td>2.000000</td>\n",
       "      <td>0.000000</td>\n",
       "    </tr>\n",
       "    <tr>\n",
       "      <th>25%</th>\n",
       "      <td>2.750000</td>\n",
       "      <td>2.000000</td>\n",
       "      <td>500.000000</td>\n",
       "      <td>16.000000</td>\n",
       "      <td>0.000000</td>\n",
       "    </tr>\n",
       "    <tr>\n",
       "      <th>50%</th>\n",
       "      <td>7.000000</td>\n",
       "      <td>4.000000</td>\n",
       "      <td>1000.000000</td>\n",
       "      <td>28.000000</td>\n",
       "      <td>0.000000</td>\n",
       "    </tr>\n",
       "    <tr>\n",
       "      <th>75%</th>\n",
       "      <td>14.000000</td>\n",
       "      <td>7.000000</td>\n",
       "      <td>1750.000000</td>\n",
       "      <td>50.000000</td>\n",
       "      <td>0.000000</td>\n",
       "    </tr>\n",
       "    <tr>\n",
       "      <th>max</th>\n",
       "      <td>74.000000</td>\n",
       "      <td>50.000000</td>\n",
       "      <td>12500.000000</td>\n",
       "      <td>98.000000</td>\n",
       "      <td>1.000000</td>\n",
       "    </tr>\n",
       "  </tbody>\n",
       "</table>\n",
       "</div>"
      ],
      "text/plain": [
       "          Recency   Frequency      Monetary        Time  Donated_Blood\n",
       "count  748.000000  748.000000    748.000000  748.000000     748.000000\n",
       "mean     9.506684    5.514706   1378.676471   34.282086       0.237968\n",
       "std      8.095396    5.839307   1459.826781   24.376714       0.426124\n",
       "min      0.000000    1.000000    250.000000    2.000000       0.000000\n",
       "25%      2.750000    2.000000    500.000000   16.000000       0.000000\n",
       "50%      7.000000    4.000000   1000.000000   28.000000       0.000000\n",
       "75%     14.000000    7.000000   1750.000000   50.000000       0.000000\n",
       "max     74.000000   50.000000  12500.000000   98.000000       1.000000"
      ]
     },
     "execution_count": 5,
     "metadata": {},
     "output_type": "execute_result"
    }
   ],
   "source": [
    "# Passo 2: Análise Exploratória dos Dados (EDA)\n",
    "print(\"\\nResumo estatístico do dataset:\")\n",
    "df.describe()"
   ]
  },
  {
   "cell_type": "code",
   "execution_count": 6,
   "metadata": {},
   "outputs": [
    {
     "name": "stdout",
     "output_type": "stream",
     "text": [
      "\n",
      "Distribuição da variável alvo (Donated_Blood):\n"
     ]
    },
    {
     "data": {
      "text/plain": [
       "Donated_Blood\n",
       "0    570\n",
       "1    178\n",
       "Name: count, dtype: int64"
      ]
     },
     "execution_count": 6,
     "metadata": {},
     "output_type": "execute_result"
    }
   ],
   "source": [
    "# Contar doadores (1) e não doadores (0)\n",
    "print(\"\\nDistribuição da variável alvo (Donated_Blood):\")\n",
    "df['Donated_Blood'].value_counts()"
   ]
  },
  {
   "cell_type": "code",
   "execution_count": 7,
   "metadata": {},
   "outputs": [
    {
     "data": {
      "text/plain": [
       "<Figure size 1200x600 with 0 Axes>"
      ]
     },
     "metadata": {},
     "output_type": "display_data"
    },
    {
     "data": {
      "image/png": "[encoded data removed]",
      "text/plain": [
       "<Figure size 1200x600 with 6 Axes>"
      ]
     },
     "metadata": {},
     "output_type": "display_data"
    }
   ],
   "source": [
    "# Passo 3: Visualizar os Dados\n",
    "plt.figure(figsize=(12, 6))\n",
    "df.hist(bins=20, figsize=(12, 6), edgecolor='black')\n",
    "plt.suptitle(\"Distribuições das variáveis\", fontsize=14)\n",
    "plt.show()"
   ]
  },
  {
   "cell_type": "code",
   "execution_count": null,
   "metadata": {},
   "outputs": [],
   "source": [
    "# Interpretação dos Histogramas\n",
    "# Os histogramas gerados no \"Passo 3\" mostram a distribuição de cada uma dessas variáveis. Aqui está uma análise geral do que você pode observar:\n",
    "\n",
    "# Recency:\n",
    "\n",
    "# Mostra a frequência de doadores com base no tempo desde a última doação.\n",
    "# Pode revelar se há mais doadores recentes ou se a maioria não doa há muito tempo.\n",
    "# Frequency:\n",
    "\n",
    "# Indica quantas vezes os indivíduos doaram sangue.\n",
    "# Pode mostrar se há um padrão comum, como doadores frequentes ou ocasionais.\n",
    "# Monetary:\n",
    "\n",
    "# Representa o total de sangue doado em mililitros.\n",
    "# Como é proporcional à frequência, pode ter uma distribuição semelhante à coluna Frequency.\n",
    "# Time:\n",
    "\n",
    "# Mostra o tempo desde o primeiro registro de doação.\n",
    "# Pode indicar se há mais doadores novos ou antigos.\n",
    "# Donated_Blood:\n",
    "\n",
    "# Como é uma variável binária (0 ou 1), o histograma terá apenas duas barras.\n",
    "# Mostra a proporção de pessoas que doaram sangue recentemente (1) em relação às que não doaram (0).\n",
    "# Próximos Passos\n",
    "# Identificar padrões: Verifique se as distribuições são uniformes, concentradas ou assimétricas.\n",
    "# Outliers: Observe se há valores extremos, como doadores com valores muito altos de Frequency ou Monetary.\n",
    "# Correlação: Use gráficos adicionais (como scatter plots) para explorar relações entre variáveis, por exemplo, entre Recency e Donated_Blood."
   ]
  },
  {
   "cell_type": "code",
   "execution_count": 8,
   "metadata": {},
   "outputs": [
    {
     "data": {
      "image/png": "[encoded data removed]",
      "text/plain": [
       "<Figure size 600x400 with 1 Axes>"
      ]
     },
     "metadata": {},
     "output_type": "display_data"
    }
   ],
   "source": [
    "# Boxplot de Monetary por Donated_Blood\n",
    "plt.figure(figsize=(6, 4))\n",
    "sns.boxplot(x='Donated_Blood', y='Monetary', data=df)\n",
    "plt.title(\"Boxplot de Monetary por Donated_Blood\")\n",
    "plt.show()"
   ]
  },
  {
   "cell_type": "code",
   "execution_count": 10,
   "metadata": {},
   "outputs": [
    {
     "name": "stdout",
     "output_type": "stream",
     "text": [
      "\n",
      "Resultados da ANOVA para Frequency:\n",
      "                        sum_sq     df          F        PR(>F)\n",
      "C(Donated_Blood)   1217.520889    1.0  37.449334  1.514734e-09\n",
      "Residual          24253.317347  746.0        NaN           NaN\n",
      "\n",
      "Teste t para Monetary entre doadores e não doadores:\n",
      "Estatística t: 6.1196, Valor p: 0.0000\n",
      "\n",
      "Teste de Tukey para Frequency:\n",
      "Multiple Comparison of Means - Tukey HSD, FWER=0.05\n",
      "=================================================\n",
      "group1 group2 meandiff p-adj lower  upper  reject\n",
      "-------------------------------------------------\n",
      "     0      1    2.996   0.0 2.0349 3.9571   True\n",
      "-------------------------------------------------\n"
     ]
    }
   ],
   "source": [
    "# Passo 4: Análise Estatística\n",
    "# ANOVA para verificar diferenças na Frequency entre doadores e não doadores\n",
    "model = ols('Frequency ~ C(Donated_Blood)', data=df).fit()\n",
    "anova_table = sm.stats.anova_lm(model, typ=2)\n",
    "print(\"\\nResultados da ANOVA para Frequency:\")\n",
    "print(anova_table)\n",
    "\n",
    "# Teste t para comparar Monetary entre doadores e não doadores\n",
    "doadores = df[df['Donated_Blood'] == 1]['Monetary']\n",
    "nao_doadores = df[df['Donated_Blood'] == 0]['Monetary']\n",
    "t_stat, p_value = stats.ttest_ind(doadores, nao_doadores)\n",
    "print(\"\\nTeste t para Monetary entre doadores e não doadores:\")\n",
    "print(f\"Estatística t: {t_stat:.4f}, Valor p: {p_value:.4f}\")\n",
    "\n",
    "# Se ANOVA for significativa, realizar teste de Tukey\n",
    "tukey = sm.stats.multicomp.pairwise_tukeyhsd(df['Frequency'], df['Donated_Blood'])\n",
    "print(\"\\nTeste de Tukey para Frequency:\")\n",
    "print(tukey)"
   ]
  },
  {
   "cell_type": "code",
   "execution_count": 11,
   "metadata": {},
   "outputs": [
    {
     "name": "stdout",
     "output_type": "stream",
     "text": [
      "\n",
      "A ANOVA indicou uma diferença significativa em Frequency entre doadores e não doadores.\n",
      "O teste t indicou uma diferença significativa em Monetary entre os grupos.\n"
     ]
    },
    {
     "name": "stderr",
     "output_type": "stream",
     "text": [
      "C:\\Users\\Nicolau\\AppData\\Local\\Temp\\ipykernel_30524\\4075549879.py:3: FutureWarning: Series.__getitem__ treating keys as positions is deprecated. In a future version, integer keys will always be treated as labels (consistent with DataFrame behavior). To access a value by position, use `ser.iloc[pos]`\n",
      "  if anova_table['PR(>F)'][0] < 0.05:\n"
     ]
    }
   ],
   "source": [
    "# Passo 5: Interpretação dos Resultados\n",
    "# Os valores de p indicarão se há diferenças estatisticamente significativas entre os grupos\n",
    "if anova_table['PR(>F)'][0] < 0.05:\n",
    "    print(\"\\nA ANOVA indicou uma diferença significativa em Frequency entre doadores e não doadores.\")\n",
    "else:\n",
    "    print(\"\\nA ANOVA não indicou diferença significativa em Frequency entre os grupos.\")\n",
    "\n",
    "if p_value < 0.05:\n",
    "    print(\"O teste t indicou uma diferença significativa em Monetary entre os grupos.\")\n",
    "else:\n",
    "    print(\"O teste t não indicou diferença significativa em Monetary entre os grupos.\")"
   ]
  }
 ],
 "metadata": {
  "kernelspec": {
   "display_name": "Python 3",
   "language": "python",
   "name": "python3"
  },
  "language_info": {
   "codemirror_mode": {
    "name": "ipython",
    "version": 3
   },
   "file_extension": ".py",
   "mimetype": "text/x-python",
   "name": "python",
   "nbconvert_exporter": "python",
   "pygments_lexer": "ipython3",
   "version": "3.12.10"
  }
 },
 "nbformat": 4,
 "nbformat_minor": 2
}
