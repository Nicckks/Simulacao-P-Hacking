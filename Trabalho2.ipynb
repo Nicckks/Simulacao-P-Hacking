{
 "cells": [
  {
   "cell_type": "code",
   "execution_count": null,
   "id": "7cb779a3",
   "metadata": {},
   "outputs": [],
   "source": [
    "%pip install numpy pandas scipy matplotlib seaborn"
   ]
  },
  {
   "cell_type": "code",
   "execution_count": null,
   "id": "b1c82fad",
   "metadata": {},
   "outputs": [
    {
     "ename": "ModuleNotFoundError",
     "evalue": "No module named 'numpy'",
     "output_type": "error",
     "traceback": [
      "\u001b[31m---------------------------------------------------------------------------\u001b[39m",
      "\u001b[31mModuleNotFoundError\u001b[39m                       Traceback (most recent call last)",
      "\u001b[36mCell\u001b[39m\u001b[36m \u001b[39m\u001b[32mIn[7]\u001b[39m\u001b[32m, line 1\u001b[39m\n\u001b[32m----> \u001b[39m\u001b[32m1\u001b[39m \u001b[38;5;28;01mimport\u001b[39;00m\u001b[38;5;250m \u001b[39m\u001b[34;01mnumpy\u001b[39;00m\u001b[38;5;250m \u001b[39m\u001b[38;5;28;01mas\u001b[39;00m\u001b[38;5;250m \u001b[39m\u001b[34;01mnp\u001b[39;00m\n\u001b[32m      2\u001b[39m \u001b[38;5;28;01mimport\u001b[39;00m\u001b[38;5;250m \u001b[39m\u001b[34;01mpandas\u001b[39;00m\u001b[38;5;250m \u001b[39m\u001b[38;5;28;01mas\u001b[39;00m\u001b[38;5;250m \u001b[39m\u001b[34;01mpd\u001b[39;00m\n\u001b[32m      3\u001b[39m \u001b[38;5;28;01mfrom\u001b[39;00m\u001b[38;5;250m \u001b[39m\u001b[34;01mscipy\u001b[39;00m\u001b[38;5;250m \u001b[39m\u001b[38;5;28;01mimport\u001b[39;00m stats\n",
      "\u001b[31mModuleNotFoundError\u001b[39m: No module named 'numpy'"
     ]
    }
   ],
   "source": [
    "import numpy as np\n",
    "import pandas as pd\n",
    "from scipy import stats\n",
    "import matplotlib.pyplot as plt\n",
    "import seaborn as sns"
   ]
  },
  {
   "cell_type": "code",
   "execution_count": 9,
   "id": "40a472b7",
   "metadata": {},
   "outputs": [
    {
     "ename": "NameError",
     "evalue": "name 'np' is not defined",
     "output_type": "error",
     "traceback": [
      "\u001b[31m---------------------------------------------------------------------------\u001b[39m",
      "\u001b[31mNameError\u001b[39m                                 Traceback (most recent call last)",
      "\u001b[36mCell\u001b[39m\u001b[36m \u001b[39m\u001b[32mIn[9]\u001b[39m\u001b[32m, line 4\u001b[39m\n\u001b[32m      1\u001b[39m \u001b[38;5;66;03m# Passo 1: Configurar e Simular\u001b[39;00m\n\u001b[32m      2\u001b[39m \n\u001b[32m      3\u001b[39m \u001b[38;5;66;03m# Configurações\u001b[39;00m\n\u001b[32m----> \u001b[39m\u001b[32m4\u001b[39m \u001b[43mnp\u001b[49m.random.seed(\u001b[32m42\u001b[39m)\n\u001b[32m      6\u001b[39m \u001b[38;5;66;03m# Simulação de dados\u001b[39;00m\n\u001b[32m      7\u001b[39m n = \u001b[32m100\u001b[39m\n",
      "\u001b[31mNameError\u001b[39m: name 'np' is not defined"
     ]
    }
   ],
   "source": [
    "# Passo 1: Configurar e Simular\n",
    "\n",
    "# Configurações\n",
    "np.random.seed(42)\n",
    "\n",
    "# Simulação de dados\n",
    "n = 100\n",
    "controle = np.random.normal(loc=50, scale=10, size=n)\n",
    "teste = np.random.normal(loc=52, scale=10, size=n)\n",
    "\n",
    "df = pd.DataFrame({\n",
    "    'grupo': ['controle'] * n + ['teste'] * n,\n",
    "    'resultado': np.concatenate([controle, teste])\n",
    "})"
   ]
  },
  {
   "cell_type": "code",
   "execution_count": null,
   "id": "a73f2ee3",
   "metadata": {},
   "outputs": [],
   "source": [
    "# Passo 2: Teste original\n",
    "teste_t_original = stats.ttest_ind(df[df['grupo'] == 'controle']['resultado'],\n",
    "                                   df[df['grupo'] == 'teste']['resultado'])"
   ]
  },
  {
   "cell_type": "code",
   "execution_count": null,
   "id": "4e2e7393",
   "metadata": {},
   "outputs": [],
   "source": [
    "# Passo 3: Simulando p-hacking\n",
    "p_valores = []\n",
    "resultados_filtrados = []\n",
    "limiares = np.linspace(0, 2.5, 25)\n",
    "\n",
    "for limiar in limiares:\n",
    "    controle_filtrado = df[df['grupo'] == 'controle']['resultado']\n",
    "    teste_filtrado = df[df['grupo'] == 'teste']['resultado']\n",
    "\n",
    "    controle_filtrado = controle_filtrado[(controle_filtrado > 50 - limiar * 10) & (controle_filtrado < 50 + limiar * 10)]\n",
    "    teste_filtrado = teste_filtrado[(teste_filtrado > 52 - limiar * 10) & (teste_filtrado < 52 + limiar * 10)]\n",
    "\n",
    "    if len(controle_filtrado) > 10 and len(teste_filtrado) > 10:\n",
    "        resultado = stats.ttest_ind(controle_filtrado, teste_filtrado)\n",
    "        p_valores.append(resultado.pvalue)\n",
    "        resultados_filtrados.append((limiar, resultado.pvalue))\n",
    "\n",
    "df_simulacao = pd.DataFrame(resultados_filtrados, columns=['limiar', 'p_valor'])"
   ]
  },
  {
   "cell_type": "code",
   "execution_count": null,
   "id": "ff8a30cd",
   "metadata": {},
   "outputs": [],
   "source": [
    "# Passo 4: Visualização dos p-valores manipulados\n",
    "plt.figure(figsize=(10, 6))\n",
    "sns.lineplot(data=df_simulacao, x='limiar', y='p_valor', marker='o')\n",
    "plt.axhline(0.05, color='red', linestyle='--', label='Significância 0.05')\n",
    "plt.title('Simulação de P-Hacking: P-valor vs Limiar de Exclusão de Outliers')\n",
    "plt.xlabel('Limiar de exclusão (σ)')\n",
    "plt.ylabel('P-valor')\n",
    "plt.legend()\n",
    "plt.grid(True)\n",
    "plt.show()"
   ]
  },
  {
   "cell_type": "code",
   "execution_count": null,
   "id": "0540adec",
   "metadata": {},
   "outputs": [
    {
     "ename": "SyntaxError",
     "evalue": "incomplete input (3346788968.py, line 1)",
     "output_type": "error",
     "traceback": [
      "  \u001b[36mCell\u001b[39m\u001b[36m \u001b[39m\u001b[32mIn[5]\u001b[39m\u001b[32m, line 1\u001b[39m\n\u001b[31m    \u001b[39m\u001b[31m\"\"\"\"1. Código Python — Simulação de P-Hacking\u001b[39m\n    ^\n\u001b[31mSyntaxError\u001b[39m\u001b[31m:\u001b[39m incomplete input\n"
     ]
    }
   ],
   "source": [
    "\n",
    "\"\"\"\n",
    "1. Código Python — Simulação de P-Hacking\n",
    "Este código simula dados de dois grupos (controle e teste), aplica um teste t de Student para verificar se há diferença significativa e, em seguida, realiza manipulações estatísticas para simular práticas de p-hacking:\n",
    "\n",
    "2. Documentação da Simulação\n",
    "Na simulação, temos:\n",
    "\n",
    "Dados normais com pequena diferença de média entre os grupos (controle: 50, teste: 52).\n",
    "\n",
    "O p-valor original do teste t foi de aproximadamente 0.0141, indicando diferença significativa.\n",
    "\n",
    "Ao manipular os dados (removendo valores extremos com diferentes limiares), o p-valor foi forçado a valores ainda menores (ex: 7.15e-08) em alguns casos, demonstrando o impacto do p-hacking.\n",
    "\n",
    "Essa prática mascara a realidade estatística dos dados, podendo levar a conclusões falsas e replicabilidade comprometida.\n",
    "\n",
    "3. Discussão Ética sobre P-Hacking\n",
    "O que é P-Hacking?\n",
    "P-Hacking é o uso indevido de técnicas estatísticas (como excluir outliers ou realizar múltiplos testes sem correção) com o intuito de atingir um p-valor < 0.05, que tradicionalmente indica significância estatística.\n",
    "\n",
    "Consequências Éticas\n",
    "Engano científico: Os resultados parecem mais confiáveis do que realmente são, levando a replicações falhas e decisões erradas.\n",
    "\n",
    "Dano social: Estudos falseados podem impactar políticas públicas, saúde e tecnologia.\n",
    "\n",
    "Corrupção acadêmica: Viola normas de integridade científica (como o Código de Ética da FAPESP ou CNPq no Brasil).\n",
    "\n",
    "Responsabilidade profissional: Estatísticos e cientistas têm dever legal e moral de relatar resultados de maneira íntegra, conforme o Código de Ética Profissional dos Estatísticos (CONFE).\n",
    "\n",
    "Referências Filosóficas\n",
    "Immanuel Kant: A ética kantiana exige agir de forma que sua ação possa se tornar uma máxima universal. P-hacking viola isso ao tratar a ciência como meio para autopromoção e não como fim em si.\n",
    "\n",
    "Aristóteles: A virtude da phronesis (prudência prática) deve guiar o uso de estatística com sabedoria. A manipulação dos dados é uma ação akratés (sem domínio próprio).\n",
    "\n",
    "John Stuart Mill: A ética utilitarista visa o maior bem para o maior número. P-hacking engana a sociedade, criando mais malefícios do que benefícios.\n",
    "\n",
    "Referências Legislativas e Institucionais\n",
    "Código de Boas Práticas Científicas (FAPESP, 2014): Reforça a transparência, reprodutibilidade e honestidade na análise de dados.\n",
    "\n",
    "Resolução CNS 510/2016: Normas éticas para pesquisas em Ciências Humanas e Sociais, exigindo descrição clara e fiel das análises.\n",
    "\n",
    "COPE (Committee on Publication Ethics): Reprova manipulações estatísticas sem justificativa metodológica rigorosa.\n",
    "\n",
    "4. Boas Práticas para Evitar o P-Hacking\n",
    "Preregister: Registrar o plano de análise antes de coletar os dados.\n",
    "\n",
    "Correção para múltiplos testes: Bonferroni, FDR etc.\n",
    "\n",
    "Relatar todos os testes feitos: Não esconder análises não significativas.\n",
    "\n",
    "Divulgar dados e código: Facilita replicação.\n",
    "\n",
    "Consultoria estatística profissional: Evita erros não intencionais.\n",
    "\"\"\""
   ]
  },
  {
   "cell_type": "code",
   "execution_count": null,
   "id": "26686875",
   "metadata": {},
   "outputs": [],
   "source": []
  }
 ],
 "metadata": {
  "kernelspec": {
   "display_name": "Python 3",
   "language": "python",
   "name": "python3"
  },
  "language_info": {
   "codemirror_mode": {
    "name": "ipython",
    "version": 3
   },
   "file_extension": ".py",
   "mimetype": "text/x-python",
   "name": "python",
   "nbconvert_exporter": "python",
   "pygments_lexer": "ipython3",
   "version": "3.12.10"
  }
 },
 "nbformat": 4,
 "nbformat_minor": 5
}
